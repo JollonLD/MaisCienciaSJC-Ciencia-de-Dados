{
 "nbformat": 4,
 "nbformat_minor": 5,
 "metadata": {
  "colab": {
   "provenance": []
  },
  "kernelspec": {
   "name": "python3",
   "display_name": "Python 3"
  },
  "language_info": {
   "name": "python"
  }
 },
 "cells": [
  {
   "cell_type": "code",
   "source": [
    "# Módulo 3 - Aula 1: Introdução à Modelagem Computacional\n",
    "# Tema: Projeções de Crescimento Populacional\n",
    "\n",
    "import pandas as pd\n",
    "import numpy as np\n",
    "import matplotlib.pyplot as plt\n",
    "import seaborn as sns\n",
    "from datetime import datetime, timedelta\n",
    "\n",
    "# Configuração visual\n",
    "plt.style.use('seaborn-v0_8')\n",
    "sns.set_palette(\"husl\")\n",
    "\n",
    "print(\"🔬 +CiênciaSJC - Módulo 3: Modelagem Computacional e Simulação\")\n",
    "print(\"=\" * 60)\n",
    "print(\"Aula 1: Conceitos de Modelagem e Crescimento Populacional\")\n",
    "print(\"=\" * 60)"
   ],
   "metadata": {
    "id": "e3a89a0f"
   }
  },
  {
   "cell_type": "markdown",
   "source": [
    "## 📚 O que é Modelagem Computacional?\n",
    "\n",
    "A modelagem computacional é uma ferramenta poderosa que nos permite:\n",
    "- **Simular** fenômenos da vida real usando matemática e programação\n",
    "- **Prever** comportamentos futuros baseados em dados históricos\n",
    "- **Testar** diferentes cenários sem precisar esperar anos pelos resultados\n",
    "- **Entender** padrões complexos de forma visual e intuitiva\n",
    "\n",
    "### Exemplos no nosso dia a dia:\n",
    "- Previsão do tempo\n",
    "- Simulação de epidemias (como COVID-19)\n",
    "- Previsão de crescimento populacional\n",
    "- Simulação de investimentos"
   ],
   "metadata": {
    "id": "c1f7b0f6"
   }
  },
  {
   "cell_type": "markdown",
   "source": [
    "## 🌍 Projeto Prático: Crescimento Populacional de São José dos Campos\n",
    "\n",
    "Vamos criar um modelo para simular o crescimento populacional da nossa cidade!"
   ],
   "metadata": {
    "id": "a6b9a8b1"
   }
  },
  {
   "cell_type": "code",
   "source": [
    "# Dados históricos de São José dos Campos (exemplo)\n",
    "anos_historicos = [2010, 2015, 2020, 2022]\n",
    "populacao_historica = [629921, 688597, 729737, 751579]\n",
    "\n",
    "# Criando DataFrame com dados históricos\n",
    "dados_historicos = pd.DataFrame({\n",
    "    'ano': anos_historicos,\n",
    "    'populacao': populacao_historica\n",
    "})\n",
    "\n",
    "print(\"📊 Dados Históricos de São José dos Campos:\")\n",
    "print(dados_historicos)\n",
    "print()\n",
    "\n",
    "# Calculando taxa de crescimento média\n",
    "dados_historicos['crescimento_anual'] = dados_historicos['populacao'].pct_change() * 100\n",
    "taxa_media = dados_historicos['crescimento_anual'].mean()\n",
    "\n",
    "print(f\"📈 Taxa de crescimento média anual: {taxa_media:.2f}%\")"
   ],
   "metadata": {
    "id": "f5e9d0a7"
   }
  },
  {
   "cell_type": "markdown",
   "source": [
    "## 🔢 Modelo 1: Crescimento Linear Simples\n",
    "\n",
    "Vamos começar com o modelo mais básico: crescimento linear constante."
   ],
   "metadata": {
    "id": "g4h2i1j0"
   }
  },
  {
   "cell_type": "code",
   "source": [
    "def modelo_crescimento_linear(populacao_inicial, taxa_crescimento, anos):\n",
    "    \"\"\"\n",
    "    Modelo de crescimento linear simples\n",
    "    \n",
    "    Parâmetros:\n",
    "    - populacao_inicial: população no ano base\n",
    "    - taxa_crescimento: taxa de crescimento anual (%)\n",
    "    - anos: número de anos para projetar\n",
    "    \"\"\"\n",
    "    populacao_atual = populacao_inicial\n",
    "    resultados = []\n",
    "    \n",
    "    for ano in range(anos + 1):\n",
    "        ano_atual = 2022 + ano\n",
    "        resultados.append({\n",
    "            'ano': ano_atual,\n",
    "            'populacao': int(populacao_atual),\n",
    "            'crescimento_abs': int(populacao_atual * (taxa_crescimento/100)) if ano > 0 else 0\n",
    "        })\n",
    "        \n",
    "        # Aplicar crescimento para próximo ano\n",
    "        if ano < anos:\n",
    "            populacao_atual += populacao_atual * (taxa_crescimento/100)\n",
    "    \n",
    "    return pd.DataFrame(resultados)\n",
    "\n",
    "# Simulando crescimento para os próximos 10 anos\n",
    "projecao_linear = modelo_crescimento_linear(751579, 1.5, 10)\n",
    "\n",
    "print(\"🔮 Projeção Linear - Próximos 10 anos:\")\n",
    "print(projecao_linear.head(6))"
   ],
   "metadata": {
    "id": "k7l6m5n4"
   }
  },
  {
   "cell_type": "markdown",
   "source": [
    "## 📈 Modelo 2: Crescimento Exponencial\n",
    "\n",
    "O crescimento populacional real é mais complexo - vamos usar um modelo exponencial!"
   ],
   "metadata": {
    "id": "o9p8q7r6"
   }
  },
  {
   "cell_type": "code",
   "source": [
    "def modelo_crescimento_exponencial(populacao_inicial, taxa_crescimento, anos, fator_desaceleracao=0.98):\n",
    "    \"\"\"\n",
    "    Modelo de crescimento exponencial com desaceleração\n",
    "    \n",
    "    Parâmetros:\n",
    "    - populacao_inicial: população no ano base\n",
    "    - taxa_crescimento: taxa inicial de crescimento (%)\n",
    "    - anos: número de anos para projetar\n",
    "    - fator_desaceleracao: fator que reduz a taxa ao longo do tempo\n",
    "    \"\"\"\n",
    "    populacao_atual = populacao_inicial\n",
    "    taxa_atual = taxa_crescimento\n",
    "    resultados = []\n",
    "    \n",
    "    for ano in range(anos + 1):\n",
    "        ano_atual = 2022 + ano\n",
    "        resultados.append({\n",
    "            'ano': ano_atual,\n",
    "            'populacao': int(populacao_atual),\n",
    "            'taxa_atual': taxa_atual,\n",
    "            'crescimento_abs': int(populacao_atual * (taxa_atual/100)) if ano > 0 else 0\n",
    "        })\n",
    "        \n",
    "        # Aplicar crescimento para próximo ano\n",
    "        if ano < anos:\n",
    "            populacao_atual *= (1 + taxa_atual/100)\n",
    "            taxa_atual *= fator_desaceleracao  # Taxa diminui com o tempo\n",
    "    \n",
    "    return pd.DataFrame(resultados)\n",
    "\n",
    "# Simulando crescimento exponencial\n",
    "projecao_exponencial = modelo_crescimento_exponencial(751579, 1.8, 10)\n",
    "\n",
    "print(\"🚀 Projeção Exponencial - Próximos 10 anos:\")\n",
    "print(projecao_exponencial.head(6))"
   ],
   "metadata": {
    "id": "s7t6u5v4"
   }
  },
  {
   "cell_type": "markdown",
   "source": [
    "## 📊 Comparando os Modelos"
   ],
   "metadata": {
    "id": "w3x2y1z0"
   }
  },
  {
   "cell_type": "code",
   "source": [
    "# Criando visualização comparativa\n",
    "fig, (ax1, ax2) = plt.subplots(1, 2, figsize=(15, 6))\n",
    "\n",
    "# Gráfico 1: Comparação de População\n",
    "ax1.plot(dados_historicos['ano'], dados_historicos['populacao'], \n",
    "         'o-', label='Dados Históricos', linewidth=3, markersize=8)\n",
    "ax1.plot(projecao_linear['ano'], projecao_linear['populacao'], \n",
    "         's--', label='Modelo Linear', linewidth=2, markersize=6)\n",
    "ax1.plot(projecao_exponencial['ano'], projecao_exponencial['populacao'], \n",
    "         '^--', label='Modelo Exponencial', linewidth=2, markersize=6)\n",
    "\n",
    "ax1.set_xlabel('Ano')\n",
    "ax1.set_ylabel('População')\n",
    "ax1.set_title('Projeção Populacional - São José dos Campos')\n",
    "ax1.legend()\n",
    "ax1.grid(True, alpha=0.3)\n",
    "\n",
    "# Gráfico 2: Taxa de Crescimento\n",
    "ax2.plot(projecao_linear['ano'][1:], [1.5]*len(projecao_linear['ano'][1:]), \n",
    "         's--', label='Linear (constante)', linewidth=2)\n",
    "ax2.plot(projecao_exponencial['ano'][1:], projecao_exponencial['taxa_atual'][1:], \n",
    "         '^--', label='Exponencial (decrescente)', linewidth=2)\n",
    "\n",
    "ax2.set_xlabel('Ano')\n",
    "ax2.set_ylabel('Taxa de Crescimento (%)')\n",
    "ax2.set_title('Evolução da Taxa de Crescimento')\n",
    "ax2.legend()\n",
    "ax2.grid(True, alpha=0.3)\n",
    "\n",
    "plt.tight_layout()\n",
    "plt.show()"
   ],
   "metadata": {
    "id": "a9b8c7d6"
   }
  },
  {
   "cell_type": "markdown",
   "source": [
    "## 🎯 Testando Diferentes Cenários\n",
    "\n",
    "Vamos testar como diferentes fatores afetam o crescimento populacional:"
   ],
   "metadata": {
    "id": "e5f4g3h2"
   }
  },
  {
   "cell_type": "code",
   "source": [
    "# Cenário 1: Crescimento otimista\n",
    "cenario_otimista = modelo_crescimento_exponencial(751579, 2.2, 10, 0.99)\n",
    "\n",
    "# Cenário 2: Crescimento conservador\n",
    "cenario_conservador = modelo_crescimento_exponencial(751579, 1.0, 10, 0.95)\n",
    "\n",
    "# Cenário 3: Crescimento com estagnação\n",
    "cenario_estagnacao = modelo_crescimento_exponencial(751579, 1.5, 10, 0.90)\n",
    "\n",
    "# Comparação de cenários\n",
    "plt.figure(figsize=(12, 8))\n",
    "\n",
    "plt.plot(dados_historicos['ano'], dados_historicos['populacao'], \n",
    "         'o-', label='Dados Históricos', linewidth=3, markersize=8)\n",
    "plt.plot(cenario_otimista['ano'], cenario_otimista['populacao'], \n",
    "         'g^--', label='Cenário Otimista', linewidth=2)\n",
    "plt.plot(projecao_exponencial['ano'], projecao_exponencial['populacao'], \n",
    "         'b^--', label='Cenário Base', linewidth=2)\n",
    "plt.plot(cenario_conservador['ano'], cenario_conservador['populacao'], \n",
    "         'o--', label='Cenário Conservador', linewidth=2)\n",
    "plt.plot(cenario_estagnacao['ano'], cenario_estagnacao['populacao'], \n",
    "         'r^--', label='Cenário Estagnação', linewidth=2)\n",
    "\n",
    "plt.xlabel('Ano')\n",
    "plt.ylabel('População')\n",
    "plt.title('Diferentes Cenários de Crescimento Populacional')\n",
    "plt.legend()\n",
    "plt.grid(True, alpha=0.3)\n",
    "plt.show()"
   ],
   "metadata": {
    "id": "i0j9k8l7"
   }
  },
  {
   "cell_type": "markdown",
   "source": [
    "## 🔍 Análise dos Resultados\n",
    "\n",
    "Vamos comparar os diferentes cenários:"
   ],
   "metadata": {
    "id": "m6n5o4p3"
   }
  },
  {
   "cell_type": "code",
   "source": [
    "# Criando tabela comparativa para 2032\n",
    "comparacao_2032 = pd.DataFrame({\n",
    "    'Cenário': ['Otimista', 'Base', 'Conservador', 'Estagnação'],\n",
    "    'População_2032': [\n",
    "        cenario_otimista[cenario_otimista['ano'] == 2032]['populacao'].iloc[0],\n",
    "        projecao_exponencial[projecao_exponencial['ano'] == 2032]['populacao'].iloc[0],\n",
    "        cenario_conservador[cenario_conservador['ano'] == 2032]['populacao'].iloc[0],\n",
    "        cenario_estagnacao[cenario_estagnacao['ano'] == 2032]['populacao'].iloc[0]\n",
    "    ]\n",
    "})\n",
    "\n",
    "# Calculando diferenças\n",
    "comparacao_2032['Diferença_Base'] = comparacao_2032['População_2032'] - comparacao_2032['População_2032'].iloc[1]\n",
    "comparacao_2032['Crescimento_Total'] = ((comparacao_2032['População_2032'] - 751579) / 751579) * 100\n",
    "\n",
    "print(\"📋 Comparação dos Cenários para 2032:\")\n",
    "print(comparacao_2032)"
   ],
   "metadata": {
    "id": "q2r1s0t9"
   }
  },
  {
   "cell_type": "markdown",
   "source": [
    "## 💡 Exercícios Práticos\n",
    "\n",
    "### Exercício 1: Modifique os parâmetros\n",
    "Teste diferentes valores para:\n",
    "- Taxa de crescimento inicial\n",
    "- Fator de desaceleração\n",
    "- Número de anos de projeção\n",
    "\n",
    "### Exercício 2: Adicione novos fatores\n",
    "Pense em fatores que poderiam afetar o crescimento populacional:\n",
    "- Migração\n",
    "- Políticas públicas\n",
    "- Desenvolvimento econômico\n",
    "- Eventos externos (pandemias, crises)\n",
    "\n",
    "### Exercício 3: Validação do modelo\n",
    "Compare suas projeções com dados reais quando disponíveis"
   ],
   "metadata": {
    "id": "u8v7w6x5"
   }
  },
  {
   "cell_type": "code",
   "source": [
    "# Exemplo de exercício: Simulação com migração\n",
    "def modelo_com_migracao(populacao_inicial, taxa_crescimento, anos, migracao_anual=0):\n",
    "    \"\"\"\n",
    "    Modelo que inclui migração\n",
    "    \n",
    "    Parâmetros:\n",
    "    - migracao_anual: número de pessoas que migram por ano (+ entrada, - saída)\n",
    "    \"\"\"\n",
    "    populacao_atual = populacao_inicial\n",
    "    resultados = []\n",
    "    \n",
    "    for ano in range(anos + 1):\n",
    "        ano_atual = 2022 + ano\n",
    "        resultados.append({\n",
    "            'ano': ano_atual,\n",
    "            'populacao': int(populacao_atual),\n",
    "            'migracao': migracao_anual if ano > 0 else 0\n",
    "        })\n",
    "        \n",
    "        if ano < anos:\n",
    "            # Crescimento natural + migração\n",
    "            populacao_atual = populacao_atual * (1 + taxa_crescimento/100) + migracao_anual\n",
    "    \n",
    "    return pd.DataFrame(resultados)\n",
    "\n",
    "# Teste com migração positiva (chegada de pessoas)\n",
    "projecao_migracao = modelo_com_migracao(751579, 1.5, 10, 5000)\n",
    "\n",
    "print(\"🔄 Modelo com Migração (5000 pessoas/ano):\")\n",
    "print(projecao_migracao.head(6))"
   ],
   "metadata": {
    "id": "y4z3a2b1"
   }
  },
  {
   "cell_type": "markdown",
   "source": [
    "## 🎓 Resumo da Aula\n",
    "\n",
    "### O que aprendemos:\n",
    "1. **Conceitos básicos** de modelagem computacional\n",
    "2. **Diferenças** entre modelos lineares e exponenciais\n",
    "3. **Importância** de testar diferentes cenários\n",
    "4. **Limitações** dos modelos e necessidade de validação\n",
    "\n",
    "### Próxima aula:\n",
    "- Simulação de consumo energético\n",
    "- Introdução à probabilidade em simulações\n",
    "- Modelos estocásticos (com aleatoriedade)\n",
    "\n",
    "### Para casa:\n",
    "Pesquise dados populacionais da sua cidade e teste os modelos!"
   ],
   "metadata": {
    "id": "c0d9e8f7"
   }
  },
  {
   "cell_type": "code",
   "source": [
    "print(\"\\n🎉 Parabéns! Você completou a primeira aula de Modelagem Computacional!\")\n",
    "print(\"Na próxima aula, vamos trabalhar com simulação de consumo energético.\")"
   ],
   "metadata": {
    "id": "g6h5i4j3"
   }
  }
 ]
}